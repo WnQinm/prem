{
 "cells": [
  {
   "cell_type": "code",
   "execution_count": null,
   "metadata": {},
   "outputs": [],
   "source": [
    "import os\n",
    "import torch\n",
    "import pandas as pd\n",
    "from modules.model import Dataloader\n",
    "from modules.utils import load_dataset\n",
    "from modules.experiment import run_experiment\n",
    "from modules.argument import TrainArguments"
   ]
  },
  {
   "cell_type": "code",
   "execution_count": null,
   "metadata": {},
   "outputs": [],
   "source": [
    "def train(model = None, **train_args):\n",
    "    args = TrainArguments(**train_args)\n",
    "    # Setup torch\n",
    "    device = torch.device(args.device if torch.cuda.is_available() else 'cpu')\n",
    "    # Load dataset\n",
    "    g, features, ano_label, _, _ = load_dataset(args.dataset)\n",
    "    features = torch.FloatTensor(features)\n",
    "    if args.batch_size == -1:\n",
    "        features = features.to(device)\n",
    "    g = g.to(device)\n",
    "    dataloader = Dataloader(g, features, args.k, dataset_name=args.dataset)\n",
    "    if not os.path.isdir(\"./ckpt\"):\n",
    "        os.makedirs(\"./ckpt\")\n",
    "\n",
    "    # Run the experiment\n",
    "    seed = args.seed\n",
    "    model, stats = run_experiment(args, seed, device, dataloader, ano_label, model)\n",
    "    print(\"AUC: %.4f\" % stats[\"AUC\"])\n",
    "    # print(\"Time (Train): %.4fs\" % stats[\"time_train\"])\n",
    "    # print(\"Mem (Train): %.4f MB\" % (stats[\"mem_train\"] / 1024 / 1024))\n",
    "    # print(\"Time (Test): %.4fs\" % stats[\"time_test\"])\n",
    "    # print(\"Mem (Test): %.4f MB\" % (stats[\"mem_test\"] / 1024 / 1024))\n",
    "    return stats"
   ]
  },
  {
   "cell_type": "code",
   "execution_count": null,
   "metadata": {},
   "outputs": [],
   "source": [
    "data = pd.read_csv(\"./record.csv\", index_col=0)\n",
    "data.columns = data.columns.astype(float)\n",
    "\n",
    "for alpha in range(1, 10):\n",
    "    alpha = alpha * 0.1\n",
    "    for gamma in range(1, 10):\n",
    "        gamma = gamma * 0.1\n",
    "        print(f\"alpha:{alpha:.1f}, gamma:{gamma:.1f}\")\n",
    "        stats = train(dataset=\"cora\", lr=0.01, alpha=alpha, gamma=gamma, num_epoch=100, batch_size=1024)\n",
    "        data.loc[round(alpha, 1), round(gamma, 1)] = round(stats[\"AUC\"], 4)\n",
    "        del stats\n",
    "        data.to_csv(\"./record.csv\")"
   ]
  },
  {
   "cell_type": "code",
   "execution_count": null,
   "metadata": {},
   "outputs": [],
   "source": []
  }
 ],
 "metadata": {
  "kernelspec": {
   "display_name": "Python 3",
   "language": "python",
   "name": "python3"
  },
  "language_info": {
   "codemirror_mode": {
    "name": "ipython",
    "version": 3
   },
   "file_extension": ".py",
   "mimetype": "text/x-python",
   "name": "python",
   "nbconvert_exporter": "python",
   "pygments_lexer": "ipython3",
   "version": "3.9.20"
  }
 },
 "nbformat": 4,
 "nbformat_minor": 2
}
