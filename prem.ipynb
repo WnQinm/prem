{
 "cells": [
  {
   "cell_type": "code",
   "execution_count": null,
   "metadata": {},
   "outputs": [],
   "source": [
    "import os\n",
    "import torch\n",
    "import pandas as pd\n",
    "from modules.model import Dataloader, Model\n",
    "from modules.utils import load_dataset\n",
    "from modules.experiment import run_experiment\n",
    "from modules.argument import TrainArguments\n",
    "\n",
    "\n",
    "def train(grid_size, spline_order, model = None, **train_args):\n",
    "    args = TrainArguments(**train_args)\n",
    "    # Setup torch\n",
    "    device = torch.device(args.device if torch.cuda.is_available() else 'cpu')\n",
    "    # Load dataset\n",
    "    g, features, ano_label, _, _ = load_dataset(args.dataset)\n",
    "    features = torch.FloatTensor(features)\n",
    "    if args.batch_size == -1:\n",
    "        features = features.to(device)\n",
    "    g = g.to(device)\n",
    "    dataloader = Dataloader(g, features, args.k, dataset_name=args.dataset)\n",
    "    if not os.path.isdir(\"./ckpt\"):\n",
    "        os.makedirs(\"./ckpt\")\n",
    "\n",
    "    # Run the experiment\n",
    "    seed = args.seed\n",
    "    model = Model(\n",
    "            g=dataloader.g,\n",
    "            n_in=dataloader.en.shape[1],\n",
    "            n_hidden=args.n_hidden,\n",
    "            k=args.k,\n",
    "            grid_size=grid_size,\n",
    "            spline_order=spline_order\n",
    "        )\n",
    "    model, stats = run_experiment(args, seed, device, dataloader, ano_label, model)\n",
    "    print(\"AUC: %.4f\" % stats[\"AUC\"])\n",
    "    # print(\"Time (Train): %.4fs\" % stats[\"time_train\"])\n",
    "    # print(\"Mem (Train): %.4f MB\" % (stats[\"mem_train\"] / 1024 / 1024))\n",
    "    # print(\"Time (Test): %.4fs\" % stats[\"time_test\"])\n",
    "    # print(\"Mem (Test): %.4f MB\" % (stats[\"mem_test\"] / 1024 / 1024))\n",
    "    return stats"
   ]
  },
  {
   "cell_type": "code",
   "execution_count": null,
   "metadata": {},
   "outputs": [],
   "source": [
    "data = pd.read_csv(\"./record.csv\", index_col=0)\n",
    "data.columns = data.columns.astype(float)\n",
    "\n",
    "for grid_size in range(1, 11):\n",
    "    for spline_order in range(1, 6):\n",
    "        print(f\"alpha:{grid_size}, gamma:{spline_order}\")\n",
    "        stats = train(dataset=\"cora\", lr=0.01, alpha=0.5, gamma=0.1, num_epoch=100, grid_size=grid_size, spline_order=spline_order)\n",
    "        data.loc[grid_size, spline_order] = round(stats[\"AUC\"], 4)\n",
    "        del stats\n",
    "        data.to_csv(\"./record.csv\")"
   ]
  },
  {
   "cell_type": "code",
   "execution_count": null,
   "metadata": {},
   "outputs": [],
   "source": []
  }
 ],
 "metadata": {
  "kernelspec": {
   "display_name": "Python 3",
   "language": "python",
   "name": "python3"
  },
  "language_info": {
   "codemirror_mode": {
    "name": "ipython",
    "version": 3
   },
   "file_extension": ".py",
   "mimetype": "text/x-python",
   "name": "python",
   "nbconvert_exporter": "python",
   "pygments_lexer": "ipython3",
   "version": "3.9.20"
  }
 },
 "nbformat": 4,
 "nbformat_minor": 2
}
